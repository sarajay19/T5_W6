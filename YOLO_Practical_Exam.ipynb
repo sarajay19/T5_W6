{
  "cells": [
    {
      "cell_type": "markdown",
      "metadata": {
        "id": "view-in-github",
        "colab_type": "text"
      },
      "source": [
        "<a href=\"https://colab.research.google.com/github/sarajay19/T5_W6/blob/main/YOLO_Practical_Exam.ipynb\" target=\"_parent\"><img src=\"https://colab.research.google.com/assets/colab-badge.svg\" alt=\"Open In Colab\"/></a>"
      ]
    },
    {
      "cell_type": "markdown",
      "id": "fd8284c7",
      "metadata": {
        "id": "fd8284c7"
      },
      "source": [
        "# Road Traffic Vehicle Counting Exam"
      ]
    },
    {
      "cell_type": "markdown",
      "id": "90e8c1a5",
      "metadata": {
        "id": "90e8c1a5"
      },
      "source": [
        "In this exam, you will use the YOLO (You Only Look Once) object detection model to analyze a video of road traffic. Your primary task is to count the number of vehicles exiting the road at each of the four exits (located at the top, bottom, left, and right of the frame). The video for this task is provided at `Datasets/YOLO_Exam_Video.mp4`.\n",
        "\n",
        "## Objectives\n",
        "- Load and process the video using OpenCV.\n",
        "- Utilize the YOLO model to detect vehicles in each frame.\n",
        "- Manipulate the video frames using OpenCV.\n",
        "- Track vehicles as they move across the video frames.\n",
        "- Count the number of vehicles exiting via the top street.\n",
        "- Count the number of vehicles exiting via the bottom street.\n",
        "- Count the number of vehicles exiting via the left street.\n",
        "- Count the number of vehicles exiting via the right street.\n"
      ]
    },
    {
      "cell_type": "markdown",
      "id": "c7269b0e",
      "metadata": {
        "id": "c7269b0e"
      },
      "source": [
        "## Setup Environment"
      ]
    },
    {
      "cell_type": "markdown",
      "id": "2fd3bce8",
      "metadata": {
        "id": "2fd3bce8"
      },
      "source": [
        "Before you begin, ensure you have the necessary libraries installed. You will need `opencv`, and `ultralytics` among others.\n",
        "If these are not installed, you should install them."
      ]
    },
    {
      "cell_type": "code",
      "execution_count": null,
      "id": "tqHS2j28CK55",
      "metadata": {
        "collapsed": true,
        "id": "tqHS2j28CK55"
      },
      "outputs": [],
      "source": [
        "!pip install opencv-python ultralytics"
      ]
    },
    {
      "cell_type": "markdown",
      "id": "a69c2ac2",
      "metadata": {
        "id": "a69c2ac2"
      },
      "source": [
        "## Load the YOLO Model"
      ]
    },
    {
      "cell_type": "markdown",
      "id": "145d70fc",
      "metadata": {
        "id": "145d70fc"
      },
      "source": [
        "You will first need to load the YOLO model, there is a custom model for this exam called `YOLO_Model.pt` under Datasets file ⚠️ PLEASE USE THIS MODEL AND DO NOT USE ANY OTHER MODEL ⚠️.\n",
        "Write the code to load the YOLO model below:"
      ]
    },
    {
      "cell_type": "code",
      "execution_count": null,
      "id": "aTO7D39reETV",
      "metadata": {
        "id": "aTO7D39reETV"
      },
      "outputs": [],
      "source": [
        "from google.colab import drive\n",
        "drive.mount('/content/drive')"
      ]
    },
    {
      "cell_type": "code",
      "execution_count": null,
      "id": "nu3Fmap3CWfJ",
      "metadata": {
        "id": "nu3Fmap3CWfJ"
      },
      "outputs": [],
      "source": [
        "from ultralytics import YOLO\n",
        "\n",
        "# loading the YOLO model from thr drive\n",
        "model = YOLO('/content/drive/MyDrive/Trainees - المتدربين/Week 6/6- Introduction to computer vision/5- Weekly Project (Sunday)/Dataset/YOLO_Model.pt')"
      ]
    },
    {
      "cell_type": "markdown",
      "id": "cf691ac8",
      "metadata": {
        "id": "cf691ac8"
      },
      "source": [
        "## Prepare the Video Capture"
      ]
    },
    {
      "cell_type": "markdown",
      "id": "Nw9RSvKCdonK",
      "metadata": {
        "id": "Nw9RSvKCdonK"
      },
      "source": [
        "Create a variable to capture the video frames, you can use `cv2.VideoCapture()` to achive this."
      ]
    },
    {
      "cell_type": "code",
      "execution_count": null,
      "id": "oKYnr0JDDUN0",
      "metadata": {
        "id": "oKYnr0JDDUN0"
      },
      "outputs": [],
      "source": [
        "import cv2\n",
        "from google.colab.patches import cv2_imshow\n",
        "import numpy as np"
      ]
    },
    {
      "cell_type": "code",
      "execution_count": null,
      "id": "81cfbca1",
      "metadata": {
        "id": "81cfbca1"
      },
      "outputs": [],
      "source": [
        "# loading the video and sign it to the video path\n",
        "video_path = '/content/drive/MyDrive/Trainees - المتدربين/Week 6/6- Introduction to computer vision/5- Weekly Project (Sunday)/Dataset/YOLO_Video.mp4'\n",
        "cap = cv2.VideoCapture(video_path)"
      ]
    },
    {
      "cell_type": "markdown",
      "id": "48757309",
      "metadata": {
        "id": "48757309"
      },
      "source": [
        "## Get Video Information"
      ]
    },
    {
      "cell_type": "markdown",
      "id": "b4f5d5bc",
      "metadata": {
        "id": "b4f5d5bc"
      },
      "source": [
        "You can use `cv2` library to get these information fro the `VideoCapture()` variable you created to extract these information:\n",
        "* `height`: Video's height.\n",
        "* `width`: Video's width.\n",
        "* `fps`: Video's frames."
      ]
    },
    {
      "cell_type": "code",
      "execution_count": null,
      "id": "cb8e5ceb",
      "metadata": {
        "id": "cb8e5ceb"
      },
      "outputs": [],
      "source": [
        "# extracting the info from video\n",
        "height = int(cap.get(cv2.CAP_PROP_FRAME_HEIGHT))\n",
        "width = int(cap.get(cv2.CAP_PROP_FRAME_WIDTH))\n",
        "fps = cap.get(cv2.CAP_PROP_FPS)"
      ]
    },
    {
      "cell_type": "code",
      "execution_count": null,
      "id": "JTWD1BHIODHn",
      "metadata": {
        "id": "JTWD1BHIODHn"
      },
      "outputs": [],
      "source": [
        "# print out each info to use on th roi later\n",
        "print(f\"Video Height: {height}\")\n",
        "print(f\"Video Width: {width}\")\n",
        "print(f\"Video FPS: {fps}\")"
      ]
    },
    {
      "cell_type": "markdown",
      "id": "3f241495",
      "metadata": {
        "id": "3f241495"
      },
      "source": [
        "## Prepare Video Writer to Store the Output"
      ]
    },
    {
      "cell_type": "markdown",
      "id": "9ef61a34",
      "metadata": {
        "id": "9ef61a34"
      },
      "source": [
        "Create a variable that uses `cv2.VideoCapture()` to save the video with the bounding boxes, specified Region of Interest rectangle (ROI) and the counted vehicles on each sides. You will need to make the video with the same `fps`, `width`, `height`, and specify the codec and output path of the video."
      ]
    },
    {
      "cell_type": "code",
      "execution_count": null,
      "id": "-AxI6qMTD0dL",
      "metadata": {
        "id": "-AxI6qMTD0dL"
      },
      "outputs": [],
      "source": [
        "output_path = 'output_video.mp4'\n",
        "fourcc = cv2.VideoWriter_fourcc(*'mp4v')\n",
        "out = cv2.VideoWriter(output_path, fourcc, fps, (width, height))"
      ]
    },
    {
      "cell_type": "markdown",
      "id": "31e882a2",
      "metadata": {
        "id": "31e882a2"
      },
      "source": [
        "## Expermint to get the `(x1, y1, x2, y2)` of the ROI"
      ]
    },
    {
      "cell_type": "markdown",
      "id": "3b6e6d97",
      "metadata": {
        "id": "3b6e6d97"
      },
      "source": [
        "### Hint\n",
        "When defining the Regions of Interest (ROIs) for detecting vehicles exiting the road, consider the coordinates that outline the relevant areas. These coordinates can be specified as `(x1, y1, x2, y2)`, where `(x1, y1)` is the top-left corner and `(x2, y2)` is the bottom-right corner of the rectangle.\n",
        "\n",
        "Experiment with different coordinates to accurately cover the streets where vehicles exit. Visualize these ROIs by drawing rectangles on a frame of the video and adjust the coordinates as needed until you capture the desired areas effectively."
      ]
    },
    {
      "cell_type": "code",
      "execution_count": null,
      "id": "miKqfPoROdjA",
      "metadata": {
        "id": "miKqfPoROdjA"
      },
      "outputs": [],
      "source": [
        "# define roi box for counting\n",
        "roi = [\n",
        "    (1050, 0, 1200, 350),  # top\n",
        "    (700, height - 300, 800, height - 0),  # bottom\n",
        "    (0, 350, 500, 500),  # left\n",
        "    (width - 700, 550, width - 0, 700)  # right\n",
        "]"
      ]
    },
    {
      "cell_type": "code",
      "execution_count": null,
      "id": "Wc2Sfp2hOych",
      "metadata": {
        "id": "Wc2Sfp2hOych"
      },
      "outputs": [],
      "source": [
        "# counters for each exit\n",
        "exit_counters = [0, 0, 0, 0]  # top, bottom, left, right"
      ]
    },
    {
      "cell_type": "markdown",
      "id": "067dbc12",
      "metadata": {
        "id": "067dbc12"
      },
      "source": [
        "## Process Video Frames and Identify Vehicles Left the Road Form Each Street"
      ]
    },
    {
      "cell_type": "markdown",
      "id": "aa695d88",
      "metadata": {
        "id": "aa695d88"
      },
      "source": [
        "For each frame in the video, use the YOLO model to detect and track vehicles. You will need to write a loop that processes each frame and applies the YOLO model.\n",
        "\n",
        "In each frame, after detecting the vehicles, determine whether they exited the road via the top, bottom, left, or right street. You can use the positions of the bounding boxes provided by YOLO to do this.\n",
        "\n",
        "- The video should display bounding boxes around the detected objects.\n",
        "- The video should display your name on the top.\n",
        "- It should display the calculated center of each vehicle.\n",
        "- The video should display the confidence score, alongside the object ID and class ID of each detected and tracked object.\n",
        "- The video should display the rectangles representing the regions where you count the vehicles that have crossed and exited.\n",
        "- The video should display the number of vehicles that exited via the top street.\n",
        "- The video should display the number of vehicles that exited via the bottom street.\n",
        "- The video should display the number of vehicles that exited via the left street.\n",
        "- The video should display the number of vehicles that exited via the right street."
      ]
    },
    {
      "cell_type": "code",
      "source": [
        "vehicle_ids = set()  # to track vehichle IDs"
      ],
      "metadata": {
        "id": "8ULlXHUXqwCo"
      },
      "id": "8ULlXHUXqwCo",
      "execution_count": null,
      "outputs": []
    },
    {
      "cell_type": "code",
      "source": [
        "# process video frames\n",
        "while cap.isOpened():\n",
        "    ret, frame = cap.read()\n",
        "    if not ret:\n",
        "        print(\"Failed to read frame\")\n",
        "        break\n",
        "\n",
        "    # detection\n",
        "    results = model(frame)\n",
        "\n",
        "    # store current frame vehichle ID\n",
        "    current_vehicle_ids = set()\n",
        "\n",
        "    for result in results:\n",
        "        for detection in result.boxes.data:  # iterate through boxes\n",
        "            x1, y1, x2, y2, conf, cls = detection.tolist()\n",
        "\n",
        "            # Confidence threshold\n",
        "            if conf < 0.7:  # adjusting the threshold\n",
        "                continue\n",
        "\n",
        "            # assign unique ID\n",
        "            vehicle_id = int(cls)  # Assuming class ID is used as vehicle ID\n",
        "\n",
        "            # add the vehicle ID to the current frame\n",
        "            current_vehicle_ids.add(vehicle_id)\n",
        "\n",
        "            # Drawing the bounding box\n",
        "            cv2.rectangle(frame, (int(x1), int(y1)), (int(x2), int(y2)), (0, 255, 0), 2)\n",
        "\n",
        "            # Check which ROI exited\n",
        "            if y2 < roi[0][1]:  # Top\n",
        "                exit_counters[0] += 1\n",
        "            elif y1 > roi[1][3]:  # Bottom\n",
        "                exit_counters[1] += 1\n",
        "            elif x2 < roi[2][0]:  # Left\n",
        "                exit_counters[2] += 1\n",
        "            elif x1 > roi[3][2]:  # Right\n",
        "                exit_counters[3] += 1\n",
        "\n",
        "            # Display conf score, IDs\n",
        "            label = f\"ID: {vehicle_id}, Conf: {conf:.2f}\"\n",
        "            cv2.putText(frame, label, (int(x1), int(y1) - 10), cv2.FONT_HERSHEY_SIMPLEX, 0.5, (255, 255, 255), 2)\n",
        "\n",
        "            # calculate the center of the vehichle\n",
        "            center_x = int((x1 + x2) / 2)\n",
        "            center_y = int((y1 + y2) / 2)\n",
        "            cv2.circle(frame, (center_x, center_y), 5, (255, 0, 0), -1)  # Center point\n",
        "\n",
        "    # Update vehicle IDs for the next frame\n",
        "    vehicle_ids.update(current_vehicle_ids)\n",
        "\n",
        "    # drawing the roi\n",
        "    for (x1, y1, x2, y2) in roi:\n",
        "        cv2.rectangle(frame, (x1, y1), (x2, y2), (0, 0, 255), 2)  # red rectangle for the roi\n",
        "\n",
        "    # display counts\n",
        "    cv2.putText(frame, f\"Top: {exit_counters[0]}\", (200, 60), cv2.FONT_HERSHEY_SIMPLEX, 0.5, (255, 255, 255), 2)\n",
        "    cv2.putText(frame, f\"Bottom: {exit_counters[1]}\", (200, 90), cv2.FONT_HERSHEY_SIMPLEX, 0.5, (255, 255, 255), 2)\n",
        "    cv2.putText(frame, f\"Left: {exit_counters[2]}\", (200, 120), cv2.FONT_HERSHEY_SIMPLEX, 0.5, (255, 255, 255), 2)\n",
        "    cv2.putText(frame, f\"Right: {exit_counters[3]}\", (200, 150), cv2.FONT_HERSHEY_SIMPLEX, 0.5, (255, 255, 255), 2)\n",
        "\n",
        "    # displaying my name\n",
        "    cv2.putText(frame, \"Sara\", (200, 30), cv2.FONT_HERSHEY_SIMPLEX, 0.9, (255, 255, 255), 2)\n",
        "\n",
        "    # showing the frame\n",
        "    cv2_imshow(frame)\n",
        "    if cv2.waitKey(1) & 0xFF == ord('q'):  # breaking the loop\n",
        "        break\n",
        "\n",
        "    # write the frame to the output video\n",
        "    out.write(frame)\n",
        "\n",
        "# release resources\n",
        "cap.release()\n",
        "out.release()\n",
        "cv2.destroyAllWindows()"
      ],
      "metadata": {
        "id": "SXhq9R_DqFxX"
      },
      "id": "SXhq9R_DqFxX",
      "execution_count": 13,
      "outputs": []
    },
    {
      "cell_type": "markdown",
      "id": "71d3083e",
      "metadata": {
        "id": "71d3083e"
      },
      "source": [
        "## Save and Submit Your Work"
      ]
    },
    {
      "cell_type": "markdown",
      "id": "ae5e33ac",
      "metadata": {
        "id": "ae5e33ac"
      },
      "source": [
        "Submit both the notebook and the output video"
      ]
    },
    {
      "cell_type": "markdown",
      "source": [
        "Resources used:\n",
        "\n",
        "https://yolov8.org/yolov8-documentation/#5_Training\n",
        "\n",
        "\n",
        "https://opencv-tutorial.readthedocs.io/en/latest/yolo/yolo.html\n"
      ],
      "metadata": {
        "id": "agWL4TwMjRPv"
      },
      "id": "agWL4TwMjRPv"
    }
  ],
  "metadata": {
    "colab": {
      "provenance": [],
      "gpuType": "T4",
      "include_colab_link": true
    },
    "kernelspec": {
      "display_name": "Python 3",
      "name": "python3"
    },
    "language_info": {
      "name": "python"
    },
    "accelerator": "GPU"
  },
  "nbformat": 4,
  "nbformat_minor": 5
}